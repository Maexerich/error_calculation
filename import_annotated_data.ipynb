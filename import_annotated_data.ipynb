{
 "cells": [
  {
   "cell_type": "markdown",
   "id": "6d584505",
   "metadata": {},
   "source": [
    "# Demo of importing dataset from csv\n",
    "Aside from a basic-import, we do some sanity-checks too."
   ]
  },
  {
   "cell_type": "code",
   "execution_count": 71,
   "id": "4a3fa578",
   "metadata": {},
   "outputs": [],
   "source": [
    "import pandas as pd\n",
    "import os"
   ]
  },
  {
   "cell_type": "code",
   "execution_count": 72,
   "id": "943832ec",
   "metadata": {},
   "outputs": [],
   "source": [
    "library = {\n",
    "    \"60deg\": 60,\n",
    "    \"minus90deg\": -90,\n",
    "    \"0DEG\": 0,\n",
    "    \"180DEG\": -180,\n",
    "    \"90deg\": 90,\n",
    "    \"minus60\": -60,\n",
    "}"
   ]
  },
  {
   "cell_type": "code",
   "execution_count": 73,
   "id": "4c292e48",
   "metadata": {},
   "outputs": [],
   "source": [
    "base_dir = 'data/'\n",
    "\n",
    "# Create empty dataframe\n",
    "df = pd.DataFrame(data=None, columns=['subject', 'force', 'angle', 'trial', 'type', 'trial_id', 'step', 'handrail'], index=None)\n",
    "\n",
    "for subject in os.listdir(base_dir):\n",
    "    for dataset in os.listdir(os.path.join(base_dir, subject)):\n",
    "        if 'with' in dataset:    # Skip empty dummy datasets\n",
    "            continue\n",
    "\n",
    "        # Read into pandas dataframe and add metadata from filename to dataframe as columns\n",
    "        tmp = pd.read_csv(os.path.join(base_dir, subject, dataset), sep=';')\n",
    "        tmp['subject'] = subject\n",
    "        tmp['force'] = int(dataset.split('_')[0][:-1])  # Remove 'N' at the end\n",
    "        tmp['angle'] = library.get(dataset.split('_')[1])   # Get numeric value from 'library', a lookup dictionary\n",
    "        tmp['type'] = dataset.split('_')[2]\n",
    "        tmp['trial_id'] = (subject + '_' + dataset).split('.')[0]   # Remove file extension\n",
    "\n",
    "        # Add temporary dataframe to main dataframe\n",
    "        df = pd.concat([df, tmp], ignore_index=True)"
   ]
  },
  {
   "cell_type": "markdown",
   "id": "4cabcd6b",
   "metadata": {},
   "source": [
    "## Some stats and checks on the dataset"
   ]
  },
  {
   "cell_type": "code",
   "execution_count": 83,
   "id": "2996f16e",
   "metadata": {},
   "outputs": [
    {
     "name": "stdout",
     "output_type": "stream",
     "text": [
      "Found a total of 36 different datasets across 3 different subjects.\n",
      "Sum of 'step' column when performing a 'walking' trial: 0\n",
      "True\n"
     ]
    }
   ],
   "source": [
    "print(f\"Found a total of {len(df['trial_id'].unique())} different datasets across {len(df['subject'].unique())} different subjects.\")\n",
    "\n",
    "# Ensure that when we have type=walking we have no values in the 'step' column\n",
    "print(f\"Sum of 'step' column when performing a 'walking' trial: {df[df['type'] == 'walking']['step'].sum()}\")\n",
    "# Another way to ensure we have actually the value 'nan' in every field of column 'step' when type is 'walking'\n",
    "print(df[df['type'] == 'walking']['step'].isna().sum() == len(df[df['type'] == 'walking']))"
   ]
  },
  {
   "cell_type": "code",
   "execution_count": 75,
   "id": "b2b4368d",
   "metadata": {},
   "outputs": [
    {
     "name": "stdout",
     "output_type": "stream",
     "text": [
      "\n",
      "\n",
      "|--- Subject sub02 has: --------------------------------------------------|\n",
      "    Directions: [60 -90]      Forces: [100 200 50]      Total trials: 61\n",
      "\n",
      "    Walking trials (30):\n",
      "            sum(handrail): 18      mean(handrail): 0.6\n",
      "    Standing trials (31):\n",
      "            sum(handrail): 5      mean(handrail): 0.16129032258064516\n",
      "    Force 100N (20 trials):\n",
      "            Touched handrail:   5/20\n",
      "            Steps:              0/10\n",
      "    Force 200N (20 trials):\n",
      "            Touched handrail:   15/20\n",
      "            Steps:              10/10\n",
      "    Force 50N (21 trials):\n",
      "            Touched handrail:   3/21\n",
      "            Steps:              0/11\n",
      "\n",
      "\n",
      "|--- Subject sub03 has: --------------------------------------------------|\n",
      "    Directions: [0 -180]      Forces: [100 200 50]      Total trials: 62\n",
      "\n",
      "    Walking trials (31):\n",
      "            sum(handrail): 0      mean(handrail): 0.0\n",
      "    Standing trials (31):\n",
      "            sum(handrail): 2      mean(handrail): 0.06451612903225806\n",
      "    Force 100N (20 trials):\n",
      "            Touched handrail:   0/20\n",
      "            Steps:              4/10\n",
      "    Force 200N (21 trials):\n",
      "            Touched handrail:   2/21\n",
      "            Steps:              10/10\n",
      "    Force 50N (21 trials):\n",
      "            Touched handrail:   0/21\n",
      "            Steps:              0/11\n",
      "\n",
      "\n",
      "|--- Subject sub04 has: --------------------------------------------------|\n",
      "    Directions: [90 -60]      Forces: [100 200 50]      Total trials: 64\n",
      "\n",
      "    Walking trials (34):\n",
      "            sum(handrail): 4      mean(handrail): 0.11764705882352941\n",
      "    Standing trials (30):\n",
      "            sum(handrail): 0      mean(handrail): 0.0\n",
      "    Force 100N (23 trials):\n",
      "            Touched handrail:   1/23\n",
      "            Steps:              0/10\n",
      "    Force 200N (20 trials):\n",
      "            Touched handrail:   3/20\n",
      "            Steps:              0/10\n",
      "    Force 50N (21 trials):\n",
      "            Touched handrail:   0/21\n",
      "            Steps:              0/10\n"
     ]
    }
   ],
   "source": [
    "for subject in df['subject'].unique():\n",
    "    df_sub = df[df['subject'] == subject]\n",
    "    print(f\"\\n\\n|--- Subject {subject} has: \" + \"-\"*50 + \"|\")\n",
    "    print(f\"    Directions: {df_sub['angle'].unique()}      Forces: {df_sub['force'].unique()}      Total trials: {len(df_sub)}\\n\")\n",
    "    # print(f\"    Forces: {df_sub['force'].unique()}\")\n",
    "    # print(f\"    Total trials: {len(df_sub)}\")\n",
    "\n",
    "    # Statistics\n",
    "    print(f\"    Walking trials ({len(df_sub[df_sub['type']=='walking'])}):\")\n",
    "    print(f\"            sum(handrail): {df_sub[df_sub['type'] == 'walking']['handrail'].sum()}      mean(handrail): {df_sub[df_sub['type'] == 'walking']['handrail'].mean()}\")\n",
    "    print(f\"    Standing trials ({len(df_sub[df_sub['type']=='standing'])}):\")\n",
    "    print(f\"            sum(handrail): {df_sub[df_sub['type'] == 'standing']['handrail'].sum()}      mean(handrail): {df_sub[df_sub['type'] == 'standing']['handrail'].mean()}\")\n",
    "\n",
    "    for force in df_sub['force'].unique():\n",
    "        df_sub_force = df_sub[df_sub['force'] == force]\n",
    "        print(f\"    Force {force}N ({len(df_sub_force)} trials):\")\n",
    "        print(f\"            Touched handrail:   {df_sub_force['handrail'].sum()}/{len(df_sub_force)}\")\n",
    "        print(f\"            Steps:              {df_sub_force['step'].sum()}/{len(df_sub_force[df_sub_force['type'] == 'standing'])}\")\n",
    "        "
   ]
  }
 ],
 "metadata": {
  "kernelspec": {
   "display_name": ".venv",
   "language": "python",
   "name": "python3"
  },
  "language_info": {
   "codemirror_mode": {
    "name": "ipython",
    "version": 3
   },
   "file_extension": ".py",
   "mimetype": "text/x-python",
   "name": "python",
   "nbconvert_exporter": "python",
   "pygments_lexer": "ipython3",
   "version": "3.12.0"
  }
 },
 "nbformat": 4,
 "nbformat_minor": 5
}

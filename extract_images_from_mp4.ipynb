{
 "cells": [
  {
   "cell_type": "markdown",
   "id": "5f690f4b",
   "metadata": {},
   "source": [
    "# Extract sequences of images from video files"
   ]
  },
  {
   "cell_type": "markdown",
   "id": "8b68711a",
   "metadata": {},
   "source": [
    "Move appropriate video files into the root directory of this repository.\n",
    "Add a prefix for the respective video with the subject number, e.g. `sub01_`, `sub02_`, etc.\n",
    "Run cells below.\n",
    "\n",
    "I have already added some concrete examples, which I believe are good ones you might want to use."
   ]
  },
  {
   "cell_type": "code",
   "execution_count": 17,
   "id": "50109fcf",
   "metadata": {},
   "outputs": [],
   "source": [
    "import cv2\n",
    "import os"
   ]
  },
  {
   "cell_type": "code",
   "execution_count": null,
   "id": "ad77d6e1",
   "metadata": {},
   "outputs": [],
   "source": [
    "def extract_images_from_video(video_path: str, timestamps: tuple[float, float]) -> None:\n",
    "\n",
    "    assert timestamps[1] - timestamps[0] > 0 and timestamps[1] - timestamps[0] < 3  # This ensures we don't extract too many frames. Limits a maximum 3 second video segment.\n",
    "    assert os.path.exists(video_path), f\"Video file {video_path} does not exist. Paste video into root directory of this repository.\"\n",
    "\n",
    "    vidcap = cv2.VideoCapture(video_path)\n",
    "    success, image = vidcap.read()\n",
    "    count = 0\n",
    "    extracted_images = []\n",
    "    framerate = vidcap.get(cv2.CAP_PROP_FPS)\n",
    "    frame_counts = [int(ts * framerate) for ts in timestamps]\n",
    "\n",
    "    while success:\n",
    "        success, image = vidcap.read()\n",
    "        if not success:\n",
    "            break\n",
    "\n",
    "        if frame_counts[0] <= count < frame_counts[1]:\n",
    "            extracted_images.append(image)\n",
    "        \n",
    "        count += 1\n",
    "\n",
    "    vidcap.release()\n",
    "\n",
    "    # Save images to directory\n",
    "    filename = video_path.split('/')[-1].split('.')[0]\n",
    "    if not os.path.exists(filename):\n",
    "        os.makedirs(filename)\n",
    "    \n",
    "    for i, img in enumerate(extracted_images):\n",
    "        # Padded number\n",
    "        number = str(i + int(timestamps[0] * framerate)).zfill(4)\n",
    "        img_path = f\"{filename}/frame_{number}.jpg\"\n",
    "        cv2.imwrite(img_path, img)\n",
    "    \n",
    "    return"
   ]
  },
  {
   "cell_type": "code",
   "execution_count": 19,
   "id": "fad29792",
   "metadata": {},
   "outputs": [],
   "source": [
    "# Subject 02\n",
    "extract_images_from_video('sub02_200N_minus90deg_walking_14.mp4', (14.8, 16.5))"
   ]
  },
  {
   "cell_type": "code",
   "execution_count": 20,
   "id": "2576e119",
   "metadata": {},
   "outputs": [],
   "source": [
    "# Subject 02\n",
    "extract_images_from_video('sub02_200N_minus90deg_standing_11.mp4', (1.8, 3.5))"
   ]
  },
  {
   "cell_type": "code",
   "execution_count": 21,
   "id": "fd566108",
   "metadata": {},
   "outputs": [],
   "source": [
    "# Subject 02\n",
    "extract_images_from_video('sub02_100N_minus90deg_walking_13.mp4', (33, 34.5))\n",
    "# Frame 1000 with 1014\n",
    "# Frame 0993 with 1030"
   ]
  },
  {
   "cell_type": "code",
   "execution_count": null,
   "id": "902a0201",
   "metadata": {},
   "outputs": [],
   "source": []
  }
 ],
 "metadata": {
  "kernelspec": {
   "display_name": ".venv",
   "language": "python",
   "name": "python3"
  },
  "language_info": {
   "codemirror_mode": {
    "name": "ipython",
    "version": 3
   },
   "file_extension": ".py",
   "mimetype": "text/x-python",
   "name": "python",
   "nbconvert_exporter": "python",
   "pygments_lexer": "ipython3",
   "version": "3.12.0"
  }
 },
 "nbformat": 4,
 "nbformat_minor": 5
}
